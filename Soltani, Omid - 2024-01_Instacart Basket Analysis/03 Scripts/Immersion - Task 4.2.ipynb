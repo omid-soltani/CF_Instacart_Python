{
 "cells": [
  {
   "cell_type": "markdown",
   "id": "557d6045",
   "metadata": {},
   "source": [
    "# Importing Libraries"
   ]
  },
  {
   "cell_type": "code",
   "execution_count": 3,
   "id": "49bda168",
   "metadata": {},
   "outputs": [],
   "source": [
    "# Import Libraries\n",
    "import pandas as pd\n",
    "import numpy as np\n",
    "import os"
   ]
  },
  {
   "cell_type": "markdown",
   "id": "af1d79f8",
   "metadata": {},
   "source": [
    "# Python Data Types"
   ]
  },
  {
   "cell_type": "markdown",
   "id": "491fcf1e",
   "metadata": {},
   "source": [
    "## 7. Code 3 different ways of reaching a result of 100"
   ]
  },
  {
   "cell_type": "code",
   "execution_count": 16,
   "id": "3759eb68",
   "metadata": {},
   "outputs": [
    {
     "name": "stdout",
     "output_type": "stream",
     "text": [
      "100\n",
      "100\n",
      "100\n"
     ]
    }
   ],
   "source": [
    "# Addition\n",
    "\n",
    "x = 75\n",
    "y = 25\n",
    "print(x + y)\n",
    "\n",
    "# Subtraction\n",
    "\n",
    "x = 150\n",
    "y = 50\n",
    "print(x - y)\n",
    "\n",
    "# Multiplication\n",
    "\n",
    "x = 25\n",
    "y = 4\n",
    "print(x * y)"
   ]
  },
  {
   "cell_type": "markdown",
   "id": "ff4ac44f",
   "metadata": {},
   "source": [
    "## 8. Code 2 floating-point variables and divide them by each other"
   ]
  },
  {
   "cell_type": "code",
   "execution_count": 19,
   "id": "c799c283",
   "metadata": {},
   "outputs": [
    {
     "name": "stdout",
     "output_type": "stream",
     "text": [
      "4.2\n"
     ]
    }
   ],
   "source": [
    "# Division\n",
    "\n",
    "x = 10.5\n",
    "y = 2.5\n",
    "print(x / y)"
   ]
  },
  {
   "cell_type": "markdown",
   "id": "c9e2eca7",
   "metadata": {},
   "source": [
    "# 9. Construct a short word made of separate strings"
   ]
  },
  {
   "cell_type": "code",
   "execution_count": 23,
   "id": "33f63520",
   "metadata": {},
   "outputs": [
    {
     "name": "stdout",
     "output_type": "stream",
     "text": [
      "Concatenation\n"
     ]
    }
   ],
   "source": [
    "# Word Concatenation\n",
    "\n",
    "x = 'Concate'\n",
    "y = 'nation'\n",
    "print(x + y)"
   ]
  },
  {
   "cell_type": "markdown",
   "id": "8d3cc94e",
   "metadata": {},
   "source": [
    "## 10. Construct 2 short sentences made of separate strings"
   ]
  },
  {
   "cell_type": "code",
   "execution_count": 31,
   "id": "58f43508",
   "metadata": {},
   "outputs": [
    {
     "name": "stdout",
     "output_type": "stream",
     "text": [
      "Open sesame is a magical phrase in the story of \"Ali Baba and the Forty Thieves.\"\n",
      "It opens the mouth of a cave in which forty thieves have hidden a treasure.\n"
     ]
    }
   ],
   "source": [
    "# Sentence Construction\n",
    "\n",
    "a = 'Open sesame is a magical phrase '\n",
    "b = 'in the story of \"Ali Baba and the Forty Thieves.\"'\n",
    "c = 'It opens the mouth of a cave '\n",
    "d = 'in which forty thieves have hidden a treasure.'\n",
    "\n",
    "print(a + b)\n",
    "print(c + d)"
   ]
  },
  {
   "cell_type": "markdown",
   "id": "a233d084",
   "metadata": {},
   "source": [
    "# Bonus"
   ]
  },
  {
   "cell_type": "code",
   "execution_count": 34,
   "id": "5b667db6",
   "metadata": {},
   "outputs": [
    {
     "name": "stdout",
     "output_type": "stream",
     "text": [
      "Open Sesame! Open Sesame! Open Sesame! Open Sesame! Open Sesame! Open Sesame! Open Sesame! Open Sesame! Open Sesame! Open Sesame! Open Sesame! Open Sesame! Open Sesame! Open Sesame! Open Sesame! Open Sesame! Open Sesame! Open Sesame! Open Sesame! Open Sesame! Open Sesame! Open Sesame! Open Sesame! Open Sesame! Open Sesame! Open Sesame! Open Sesame! Open Sesame! Open Sesame! Open Sesame! Open Sesame! Open Sesame! Open Sesame! Open Sesame! Open Sesame! Open Sesame! Open Sesame! Open Sesame! Open Sesame! Open Sesame! Open Sesame! Open Sesame! Open Sesame! Open Sesame! Open Sesame! Open Sesame! Open Sesame! Open Sesame! Open Sesame! Open Sesame! Open Sesame! Open Sesame! Open Sesame! Open Sesame! Open Sesame! Open Sesame! Open Sesame! Open Sesame! Open Sesame! Open Sesame! Open Sesame! Open Sesame! Open Sesame! Open Sesame! Open Sesame! Open Sesame! Open Sesame! Open Sesame! Open Sesame! Open Sesame! Open Sesame! Open Sesame! Open Sesame! Open Sesame! Open Sesame! Open Sesame! Open Sesame! Open Sesame! Open Sesame! Open Sesame! Open Sesame! Open Sesame! Open Sesame! Open Sesame! Open Sesame! Open Sesame! Open Sesame! Open Sesame! Open Sesame! Open Sesame! Open Sesame! Open Sesame! Open Sesame! Open Sesame! Open Sesame! Open Sesame! Open Sesame! Open Sesame! Open Sesame! Open Sesame! \n"
     ]
    }
   ],
   "source": [
    "x = 'Open Sesame! '\n",
    "print(x * 100)"
   ]
  }
 ],
 "metadata": {
  "kernelspec": {
   "display_name": "Python 3 (ipykernel)",
   "language": "python",
   "name": "python3"
  },
  "language_info": {
   "codemirror_mode": {
    "name": "ipython",
    "version": 3
   },
   "file_extension": ".py",
   "mimetype": "text/x-python",
   "name": "python",
   "nbconvert_exporter": "python",
   "pygments_lexer": "ipython3",
   "version": "3.11.5"
  }
 },
 "nbformat": 4,
 "nbformat_minor": 5
}
